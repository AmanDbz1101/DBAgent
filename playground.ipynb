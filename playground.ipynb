{
 "cells": [
  {
   "cell_type": "code",
   "execution_count": 46,
   "id": "8fdaead7",
   "metadata": {},
   "outputs": [],
   "source": [
    "import os\n",
    "from supabase import create_client, Client\n",
    "from dotenv import load_dotenv\n",
    "\n",
    "load_dotenv()\n",
    "\n",
    "url: str = os.getenv(\"SUPABASE_URL\")\n",
    "key: str = os.getenv(\"SUPABASE_KEY\")\n",
    "supabase: Client = create_client(url, key)"
   ]
  },
  {
   "cell_type": "code",
   "execution_count": 47,
   "id": "7ca01e78",
   "metadata": {},
   "outputs": [],
   "source": [
    "import pandas as pd"
   ]
  },
  {
   "cell_type": "code",
   "execution_count": 48,
   "id": "f24bd482",
   "metadata": {},
   "outputs": [],
   "source": [
    "DB_TABLE_NAME = \"Inventory\"\n",
    "\n",
    "\n",
    "def extract_inventory_data():\n",
    "    response = supabase.table(DB_TABLE_NAME).select(\"*\").execute()\n",
    "    if response and hasattr(response, 'data'):\n",
    "        return response.data\n",
    "    return response or \"No data found\"\n"
   ]
  },
  {
   "cell_type": "code",
   "execution_count": 49,
   "id": "d1bd9b40",
   "metadata": {},
   "outputs": [],
   "source": [
    "data = extract_inventory_data()"
   ]
  },
  {
   "cell_type": "code",
   "execution_count": 50,
   "id": "55694667",
   "metadata": {},
   "outputs": [
    {
     "data": {
      "text/plain": [
       "dict_keys(['created_at', 'item_name', 'quantity', 'description'])"
      ]
     },
     "execution_count": 50,
     "metadata": {},
     "output_type": "execute_result"
    }
   ],
   "source": [
    "data[0].keys()"
   ]
  },
  {
   "cell_type": "code",
   "execution_count": 51,
   "id": "c35f4813",
   "metadata": {},
   "outputs": [],
   "source": [
    "import csv"
   ]
  },
  {
   "cell_type": "code",
   "execution_count": 52,
   "id": "9046152f",
   "metadata": {},
   "outputs": [
    {
     "name": "stdout",
     "output_type": "stream",
     "text": [
      "✅ CSV file saved as output.csv\n"
     ]
    }
   ],
   "source": [
    "with open(\"output.csv\", \"w\", newline=\"\") as csvfile:\n",
    "    writer = csv.DictWriter(csvfile, fieldnames=data[0].keys())\n",
    "    writer.writeheader()\n",
    "    writer.writerows(data)\n",
    "\n",
    "print(\"✅ CSV file saved as output.csv\")"
   ]
  },
  {
   "cell_type": "code",
   "execution_count": 53,
   "id": "991ac87b",
   "metadata": {},
   "outputs": [],
   "source": [
    "response = supabase.table(DB_TABLE_NAME).upsert({\"item_name\": \"Sample\", \"quantity\": 15, \"description\": \"Sample\"}).execute()"
   ]
  },
  {
   "cell_type": "code",
   "execution_count": 54,
   "id": "1ad1cef6",
   "metadata": {},
   "outputs": [
    {
     "data": {
      "text/plain": [
       "[{'created_at': '2025-10-12T17:03:37.218016+00:00',\n",
       "  'item_name': 'Sample',\n",
       "  'quantity': 15,\n",
       "  'description': 'Sample'}]"
      ]
     },
     "execution_count": 54,
     "metadata": {},
     "output_type": "execute_result"
    }
   ],
   "source": [
    "response.data"
   ]
  },
  {
   "cell_type": "code",
   "execution_count": 55,
   "id": "f0121ef5",
   "metadata": {},
   "outputs": [],
   "source": [
    "from pydantic import BaseModel, Field\n",
    "from typing import Optional"
   ]
  },
  {
   "cell_type": "code",
   "execution_count": 56,
   "id": "707f497e",
   "metadata": {},
   "outputs": [],
   "source": [
    "class UpsertState(BaseModel):\n",
    "    item_name: str = Field(..., description=\"Name of the inventory item\")\n",
    "    quantity: int = Field(..., description=\"Quantity of the inventory item\")\n",
    "    description: Optional[str] = Field(None, description=\"Description of the inventory item\")"
   ]
  },
  {
   "cell_type": "code",
   "execution_count": 57,
   "id": "d3222a48",
   "metadata": {},
   "outputs": [],
   "source": [
    "# # Inventory Management Multi-Agent System\n",
    "\n",
    "# This notebook demonstrates the multi-agent inventory management system that we've built. The system uses LangGraph to coordinate between multiple specialized agents that work together to manage inventory data.\n",
    "\n",
    "# ## System Components:\n",
    "# 1. Task Classifier - Determines what the user wants to do\n",
    "# 2. QA Agent - Answers questions about inventory\n",
    "# 3. Upsert Agent - Adds or updates inventory items\n",
    "# 4. Delete Agent - Removes items from inventory\n",
    "# 5. CSV Export - Exports current inventory to CSV"
   ]
  },
  {
   "cell_type": "code",
   "execution_count": 58,
   "id": "a829960c",
   "metadata": {},
   "outputs": [
    {
     "name": "stderr",
     "output_type": "stream",
     "text": [
      "/home/aman/miniconda3/envs/langchain/lib/python3.11/site-packages/tqdm/auto.py:21: TqdmWarning: IProgress not found. Please update jupyter and ipywidgets. See https://ipywidgets.readthedocs.io/en/stable/user_install.html\n",
      "  from .autonotebook import tqdm as notebook_tqdm\n",
      "None of PyTorch, TensorFlow >= 2.0, or Flax have been found. Models won't be available and only tokenizers, configuration and file/data utilities can be used.\n"
     ]
    },
    {
     "name": "stdout",
     "output_type": "stream",
     "text": [
      "✅ All modules loaded successfully\n"
     ]
    }
   ],
   "source": [
    "# Import necessary modules\n",
    "import os\n",
    "import sys\n",
    "from colorama import Fore, init\n",
    "\n",
    "# Add current directory to path if needed\n",
    "sys.path.append(os.getcwd())\n",
    "\n",
    "from agent import (\n",
    "    initialize_agent_state,\n",
    "    classify_task,\n",
    "    run_qa_agent,\n",
    "    run_upsert_agent,\n",
    "    run_delete_agent,\n",
    "    export_data_to_csv\n",
    ")\n",
    "from graph import build_workflow_graph\n",
    "from tools import extract_inventory_data\n",
    "\n",
    "# Initialize colorama\n",
    "init(autoreset=True)\n",
    "\n",
    "# Check if all modules are loaded correctly\n",
    "print(\"✅ All modules loaded successfully\")"
   ]
  },
  {
   "cell_type": "code",
   "execution_count": null,
   "id": "30ebdd6d",
   "metadata": {},
   "outputs": [],
   "source": [
    "# Import necessary modules\n",
    "import os\n",
    "import sys\n",
    "from colorama import Fore, init\n",
    "\n",
    "# Add current directory to path if needed\n",
    "sys.path.append(os.getcwd())\n",
    "\n",
    "from agent import (\n",
    "    initialize_agent_state,\n",
    "    classify_task,\n",
    "    run_qa_agent,\n",
    "    run_upsert_agent,\n",
    "    run_delete_agent,\n",
    "    export_data_to_csv\n",
    ")\n",
    "from graph import build_workflow_graph\n",
    "from tools import extract_inventory_data\n",
    "\n",
    "# Initialize colorama\n",
    "init(autoreset=True)\n",
    "\n",
    "# Check if all modules are loaded correctly\n",
    "print(\"✅ All modules loaded successfully\")"
   ]
  },
  {
   "cell_type": "code",
   "execution_count": 59,
   "id": "8227161b",
   "metadata": {},
   "outputs": [
    {
     "name": "stderr",
     "output_type": "stream",
     "text": [
      "/home/aman/miniconda3/envs/langchain/lib/python3.11/site-packages/langgraph/graph/state.py:103: UserWarning: Invalid state_schema: inventory_agent. Expected a type or Annotated[type, reducer]. Please provide a valid schema to ensure correct updates.\n",
      " See: https://langchain-ai.github.io/langgraph/reference/graphs/#stategraph\n",
      "  warnings.warn(\n"
     ]
    },
    {
     "ename": "RuntimeError",
     "evalue": "",
     "output_type": "error",
     "traceback": [
      "\u001b[31m---------------------------------------------------------------------------\u001b[39m",
      "\u001b[31mRuntimeError\u001b[39m                              Traceback (most recent call last)",
      "\u001b[36mCell\u001b[39m\u001b[36m \u001b[39m\u001b[32mIn[59]\u001b[39m\u001b[32m, line 2\u001b[39m\n\u001b[32m      1\u001b[39m \u001b[38;5;66;03m# Build the workflow graph\u001b[39;00m\n\u001b[32m----> \u001b[39m\u001b[32m2\u001b[39m workflow = \u001b[43mbuild_workflow_graph\u001b[49m\u001b[43m(\u001b[49m\n\u001b[32m      3\u001b[39m \u001b[43m    \u001b[49m\u001b[43mclassify_task_fn\u001b[49m\u001b[43m=\u001b[49m\u001b[43mclassify_task\u001b[49m\u001b[43m,\u001b[49m\n\u001b[32m      4\u001b[39m \u001b[43m    \u001b[49m\u001b[43mrun_qa_agent_fn\u001b[49m\u001b[43m=\u001b[49m\u001b[43mrun_qa_agent\u001b[49m\u001b[43m,\u001b[49m\n\u001b[32m      5\u001b[39m \u001b[43m    \u001b[49m\u001b[43mrun_upsert_agent_fn\u001b[49m\u001b[43m=\u001b[49m\u001b[43mrun_upsert_agent\u001b[49m\u001b[43m,\u001b[49m\n\u001b[32m      6\u001b[39m \u001b[43m    \u001b[49m\u001b[43mrun_delete_agent_fn\u001b[49m\u001b[43m=\u001b[49m\u001b[43mrun_delete_agent\u001b[49m\u001b[43m,\u001b[49m\n\u001b[32m      7\u001b[39m \u001b[43m    \u001b[49m\u001b[43mexport_csv_fn\u001b[49m\u001b[43m=\u001b[49m\u001b[43mexport_data_to_csv\u001b[49m\n\u001b[32m      8\u001b[39m \u001b[43m)\u001b[49m\n\u001b[32m     10\u001b[39m \u001b[38;5;28mprint\u001b[39m(\u001b[33m\"\u001b[39m\u001b[33m✅ Workflow graph built successfully\u001b[39m\u001b[33m\"\u001b[39m)\n",
      "\u001b[36mFile \u001b[39m\u001b[32m~/storage/Python/Projects/DBAgent/graph.py:106\u001b[39m, in \u001b[36mbuild_workflow_graph\u001b[39m\u001b[34m(classify_task_fn, run_qa_agent_fn, run_upsert_agent_fn, run_delete_agent_fn, export_csv_fn, handle_error_fn)\u001b[39m\n\u001b[32m    104\u001b[39m     workflow.add_node(\u001b[33m\"\u001b[39m\u001b[33mhandle_error\u001b[39m\u001b[33m\"\u001b[39m, handle_error_fn)\n\u001b[32m    105\u001b[39m \u001b[38;5;28;01melse\u001b[39;00m:\n\u001b[32m--> \u001b[39m\u001b[32m106\u001b[39m     \u001b[43mworkflow\u001b[49m\u001b[43m.\u001b[49m\u001b[43madd_node\u001b[49m\u001b[43m(\u001b[49m\u001b[33;43m\"\u001b[39;49m\u001b[33;43mhandle_error\u001b[39;49m\u001b[33;43m\"\u001b[39;49m\u001b[43m,\u001b[49m\u001b[43m \u001b[49m\u001b[43mhandle_error_fn\u001b[49m\u001b[43m)\u001b[49m\n\u001b[32m    108\u001b[39m \u001b[38;5;66;03m# Add edges\u001b[39;00m\n\u001b[32m    109\u001b[39m workflow.add_edge(START, \u001b[33m\"\u001b[39m\u001b[33mclassify_task\u001b[39m\u001b[33m\"\u001b[39m)\n",
      "\u001b[36mFile \u001b[39m\u001b[32m~/miniconda3/envs/langchain/lib/python3.11/site-packages/langgraph/graph/state.py:454\u001b[39m, in \u001b[36mStateGraph.add_node\u001b[39m\u001b[34m(self, node, action, defer, metadata, input_schema, retry_policy, cache_policy, destinations, **kwargs)\u001b[39m\n\u001b[32m    450\u001b[39m         \u001b[38;5;28;01mraise\u001b[39;00m \u001b[38;5;167;01mValueError\u001b[39;00m(\n\u001b[32m    451\u001b[39m             \u001b[33m\"\u001b[39m\u001b[33mNode name must be provided if action is not a function\u001b[39m\u001b[33m\"\u001b[39m\n\u001b[32m    452\u001b[39m         )\n\u001b[32m    453\u001b[39m \u001b[38;5;28;01mif\u001b[39;00m action \u001b[38;5;129;01mis\u001b[39;00m \u001b[38;5;28;01mNone\u001b[39;00m:\n\u001b[32m--> \u001b[39m\u001b[32m454\u001b[39m     \u001b[38;5;28;01mraise\u001b[39;00m \u001b[38;5;167;01mRuntimeError\u001b[39;00m\n\u001b[32m    455\u001b[39m \u001b[38;5;28;01mif\u001b[39;00m node \u001b[38;5;129;01min\u001b[39;00m \u001b[38;5;28mself\u001b[39m.nodes:\n\u001b[32m    456\u001b[39m     \u001b[38;5;28;01mraise\u001b[39;00m \u001b[38;5;167;01mValueError\u001b[39;00m(\u001b[33mf\u001b[39m\u001b[33m\"\u001b[39m\u001b[33mNode `\u001b[39m\u001b[38;5;132;01m{\u001b[39;00mnode\u001b[38;5;132;01m}\u001b[39;00m\u001b[33m` already present.\u001b[39m\u001b[33m\"\u001b[39m)\n",
      "\u001b[31mRuntimeError\u001b[39m: "
     ]
    }
   ],
   "source": [
    "# Build the workflow graph\n",
    "workflow = build_workflow_graph(\n",
    "    classify_task_fn=classify_task,\n",
    "    run_qa_agent_fn=run_qa_agent,\n",
    "    run_upsert_agent_fn=run_upsert_agent,\n",
    "    run_delete_agent_fn=run_delete_agent,\n",
    "    export_csv_fn=export_data_to_csv\n",
    ")\n",
    "\n",
    "print(\"✅ Workflow graph built successfully\")"
   ]
  },
  {
   "cell_type": "code",
   "execution_count": null,
   "id": "ed7a8587",
   "metadata": {},
   "outputs": [],
   "source": [
    "# Display current inventory\n",
    "def display_inventory():\n",
    "    \"\"\"Print the current inventory.\"\"\"\n",
    "    inventory = extract_inventory_data()\n",
    "    \n",
    "    if not inventory:\n",
    "        print(Fore.YELLOW + \"Inventory is empty.\")\n",
    "        return inventory\n",
    "    \n",
    "    print(Fore.YELLOW + f\"Current Inventory ({len(inventory)} items):\")\n",
    "    print(Fore.YELLOW + \"-\" * 80)\n",
    "    print(Fore.YELLOW + f\"{'ID':<5} {'Item Name':<20} {'Quantity':<10} {'Description':<40}\")\n",
    "    print(Fore.YELLOW + \"-\" * 80)\n",
    "    \n",
    "    for item in inventory:\n",
    "        item_id = item.get(\"id\", \"N/A\")\n",
    "        item_name = item.get(\"item_name\", \"N/A\")\n",
    "        quantity = item.get(\"quantity\", 0)\n",
    "        description = item.get(\"description\", \"\")\n",
    "        print(Fore.WHITE + f\"{item_id:<5} {item_name:<20} {quantity:<10} {description:<40}\")\n",
    "    \n",
    "    print(Fore.YELLOW + \"-\" * 80)\n",
    "    return inventory\n",
    "\n",
    "# Display current inventory\n",
    "inventory_data = display_inventory()"
   ]
  },
  {
   "cell_type": "markdown",
   "id": "ea8a81cf",
   "metadata": {},
   "source": [
    "## Testing the Agents\n",
    "\n",
    "Let's test our multi-agent system with different types of queries:\n",
    "1. Fetch query (QA Agent)\n",
    "2. Upsert query (Update/Insert Agent)\n",
    "3. Delete query (Delete Agent)"
   ]
  },
  {
   "cell_type": "code",
   "execution_count": null,
   "id": "0f7eaf13",
   "metadata": {},
   "outputs": [],
   "source": [
    "# Test 1: QA Agent - Fetching inventory data\n",
    "query = \"Show me all inventory items\"\n",
    "print(\"User Query:\", query)\n",
    "print(\"\\nProcessing...\\n\")\n",
    "result = workflow.invoke({\"message\": query})\n",
    "print(\"\\nAgent Response:\")\n",
    "print(result[\"response\"])"
   ]
  },
  {
   "cell_type": "code",
   "execution_count": null,
   "id": "3d8d078a",
   "metadata": {},
   "outputs": [],
   "source": [
    "# Test 2: Upsert Agent - Adding or updating inventory items\n",
    "query = \"Add new item called 'Laptop' with quantity 10 and description 'Dell XPS 13'\"\n",
    "print(\"User Query:\", query)\n",
    "print(\"\\nProcessing...\\n\")\n",
    "result = workflow.invoke({\"message\": query})\n",
    "print(\"\\nAgent Response:\")\n",
    "print(result[\"response\"])\n",
    "\n",
    "# Display updated inventory after upsert\n",
    "print(\"\\nUpdated Inventory:\")\n",
    "inventory_items = tools.extract_inventory_data()\n",
    "display(pd.DataFrame(inventory_items))"
   ]
  },
  {
   "cell_type": "code",
   "execution_count": null,
   "id": "df297d27",
   "metadata": {},
   "outputs": [],
   "source": [
    "# Test 3: Delete Agent - Removing inventory items\n",
    "query = \"Delete the Laptop item from inventory\"\n",
    "print(\"User Query:\", query)\n",
    "print(\"\\nProcessing...\\n\")\n",
    "result = workflow.invoke({\"message\": query})\n",
    "print(\"\\nAgent Response:\")\n",
    "print(result[\"response\"])\n",
    "\n",
    "# Display updated inventory after deletion\n",
    "print(\"\\nUpdated Inventory after deletion:\")\n",
    "inventory_items = tools.extract_inventory_data()\n",
    "display(pd.DataFrame(inventory_items))"
   ]
  },
  {
   "cell_type": "markdown",
   "id": "1d8eb2c1",
   "metadata": {},
   "source": [
    "## Advanced Testing\n",
    "\n",
    "Let's test more complex queries and edge cases:"
   ]
  },
  {
   "cell_type": "code",
   "execution_count": null,
   "id": "8fbb2197",
   "metadata": {},
   "outputs": [],
   "source": [
    "# Test 4: Multiple items addition\n",
    "query = \"Add the following items: 5 Monitors with description 'Dell 27-inch 4K', 3 Keyboards with description 'Mechanical RGB', and 8 Mouse devices with description 'Wireless Optical'\"\n",
    "print(\"User Query:\", query)\n",
    "print(\"\\nProcessing...\\n\")\n",
    "result = workflow.invoke({\"message\": query})\n",
    "print(\"\\nAgent Response:\")\n",
    "print(result[\"response\"])\n",
    "\n",
    "# Display updated inventory\n",
    "print(\"\\nUpdated Inventory:\")\n",
    "inventory_items = tools.extract_inventory_data()\n",
    "display(pd.DataFrame(inventory_items))"
   ]
  },
  {
   "cell_type": "code",
   "execution_count": null,
   "id": "92718a3d",
   "metadata": {},
   "outputs": [],
   "source": [
    "# Test 5: Updating existing items\n",
    "query = \"Update the quantity of Monitors to 10 and change the description to 'Dell 27-inch 4K UHD'\"\n",
    "print(\"User Query:\", query)\n",
    "print(\"\\nProcessing...\\n\")\n",
    "result = workflow.invoke({\"message\": query})\n",
    "print(\"\\nAgent Response:\")\n",
    "print(result[\"response\"])\n",
    "\n",
    "# Display updated inventory\n",
    "print(\"\\nUpdated Inventory:\")\n",
    "inventory_items = tools.extract_inventory_data()\n",
    "display(pd.DataFrame(inventory_items))"
   ]
  },
  {
   "cell_type": "code",
   "execution_count": null,
   "id": "a5ddbd8c",
   "metadata": {},
   "outputs": [],
   "source": [
    "# Test 6: Export to CSV\n",
    "query = \"Export all inventory data to CSV\"\n",
    "print(\"User Query:\", query)\n",
    "print(\"\\nProcessing...\\n\")\n",
    "result = workflow.invoke({\"message\": query})\n",
    "print(\"\\nAgent Response:\")\n",
    "print(result[\"response\"])\n",
    "\n",
    "# Check if the CSV file exists and display its contents\n",
    "import os\n",
    "if os.path.exists(\"output.csv\"):\n",
    "    print(\"\\nCSV Export Contents:\")\n",
    "    csv_df = pd.read_csv(\"output.csv\")\n",
    "    display(csv_df)\n",
    "else:\n",
    "    print(\"CSV file not found\")"
   ]
  },
  {
   "cell_type": "markdown",
   "id": "52c7b45c",
   "metadata": {},
   "source": [
    "## Visualizing the Agent Workflow\n",
    "\n",
    "Let's visualize the LangGraph workflow to better understand the agent interactions:"
   ]
  },
  {
   "cell_type": "code",
   "execution_count": null,
   "id": "34494855",
   "metadata": {},
   "outputs": [],
   "source": [
    "# Import necessary visualization libraries\n",
    "try:\n",
    "    from IPython.display import Image\n",
    "    from langchain_core.graphs import graph\n",
    "    \n",
    "    # Generate the workflow graph visualization\n",
    "    workflow_graph = workflow.get_graph()\n",
    "    \n",
    "    # Save the graph to a temporary file and display it\n",
    "    graph_image = graph.visualize(workflow_graph)\n",
    "    display(Image(graph_image))\n",
    "except Exception as e:\n",
    "    print(f\"Unable to visualize graph: {e}\")\n",
    "    print(\"If visualization is not working, make sure graphviz is installed.\")\n",
    "    print(\"You can install it using: pip install graphviz\")\n",
    "    \n",
    "    # Display textual representation instead\n",
    "    print(\"\\nWorkflow Structure (Textual Representation):\")\n",
    "    print(\"1. Task Classifier -> Determines query type\")\n",
    "    print(\"2. Routes to one of the following agents:\")\n",
    "    print(\"   - QA Agent: Fetch inventory data\")\n",
    "    print(\"   - Upsert Agent: Add/Update inventory items\")\n",
    "    print(\"   - Delete Agent: Remove inventory items\")\n",
    "    print(\"3. Returns response to user\")"
   ]
  },
  {
   "cell_type": "markdown",
   "id": "e20be93c",
   "metadata": {},
   "source": [
    "## Conclusion\n",
    "\n",
    "This notebook demonstrates a complete multi-agent inventory management system with LangGraph. The system includes:\n",
    "\n",
    "1. **Task Classification Agent**: Analyzes user queries and routes them to the appropriate specialized agent\n",
    "2. **QA Agent**: Retrieves inventory information and answers queries about the data\n",
    "3. **Upsert Agent**: Adds new items or updates existing ones in the inventory\n",
    "4. **Delete Agent**: Removes items from the inventory\n",
    "\n",
    "The system leverages LangGraph for agent orchestration, Pydantic for structured data validation, and SQL database for persistent storage. The workflow processes natural language queries and performs the appropriate database operations based on the intent of the query.\n",
    "\n",
    "### Key Components:\n",
    "- **prompt.py**: Contains all agent prompts\n",
    "- **tools.py**: Provides database interaction functions\n",
    "- **agent.py**: Defines agent states and functions\n",
    "- **graph.py**: Sets up the LangGraph workflow\n",
    "- **main.py**: Application entry point\n",
    "\n",
    "### Future Enhancements:\n",
    "- Add more specialized agents (e.g., for inventory analysis, alerting on low stock)\n",
    "- Implement authentication and authorization\n",
    "- Add batch operations for efficiency\n",
    "- Create a web interface for better usability"
   ]
  }
 ],
 "metadata": {
  "kernelspec": {
   "display_name": "langchain",
   "language": "python",
   "name": "python3"
  },
  "language_info": {
   "codemirror_mode": {
    "name": "ipython",
    "version": 3
   },
   "file_extension": ".py",
   "mimetype": "text/x-python",
   "name": "python",
   "nbconvert_exporter": "python",
   "pygments_lexer": "ipython3",
   "version": "3.11.13"
  }
 },
 "nbformat": 4,
 "nbformat_minor": 5
}
